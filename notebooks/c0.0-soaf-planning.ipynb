{
 "cells": [
  {
   "cell_type": "markdown",
   "id": "01473bf0",
   "metadata": {},
   "source": [
    "# Backtesting for investment strategies"
   ]
  },
  {
   "cell_type": "markdown",
   "id": "6387e5b2",
   "metadata": {},
   "source": [
    "# Planejamento da Solução"
   ]
  },
  {
   "cell_type": "markdown",
   "id": "9d86d61f",
   "metadata": {},
   "source": [
    "## Input - Entrada\n",
    "\n",
    "### Problema de Negócio\n",
    "\n",
    "1. Selecionar uma estratégia de compra e venda para as empresas do setor de Petróleo e Gás e que lidam com a **Exploração, Refino e Distribuição**\n",
    "\n",
    "\n",
    "## Output - Saída\n",
    " \n",
    "1. Destacar a estratégia selecionada com métricas, pontos positivos e negativos.\n",
    "2. Tabelas e gráficos com informações/insights referentes ao setor de petróleo e gás.\n",
    "\n",
    "\n",
    "## Tasks - Processo\n",
    "\n",
    "#\n",
    "1. Coletar dados das empresas de exploração, refino e distribuição da bovespa do período de 1 ano.\n",
    "\n",
    "    - Quais são as informações relevantes?\n",
    "      - Fatores internos:\n",
    "        1. Cotação (Interno e externo)\n",
    "        2. Gestão\n",
    "        3. Políticas internas\n",
    "        4. Colaboradores\n",
    "        5. Equidade\n",
    "        6. Meio Ambiente\n",
    "        7. Stakeholders\n",
    "      \n",
    "      - Fatores externos:\n",
    "        1. Governo\n",
    "        2. Shareholders\n",
    "        3. Concorrência\n",
    "        4. Fatia de mercado\n",
    "        5. Segmento\n",
    "\n",
    "#\n",
    "2. Visualizar suas cotações diárias em gráficos e tabelas\n",
    "\n",
    "#\n",
    "3. Realizar testes de estratégias via backtest.\n",
    "  - Conhecer e desenvolver backtesting (bt package)\n",
    "\n",
    "#\n",
    "4. Realizar análise exploratória com os dados das empresas e cotações e extrair insights\n",
    "    - Coletar informações vide passo 1.\n",
    "\n",
    "#\n",
    "5. Desenvolver novas estratégias e testa-las\n",
    "    - Estudar possíveis indicadores:\n",
    "      1. Médias móveis\n",
    "      2. Volume\n",
    "      3. Fibbonachi\n",
    "      4. Suporte + resistência\n",
    "      5. Stock RSI\n",
    "      6. Previsão de ações via ML.\n",
    "\n",
    "#\n",
    "6. Comparar os testes por ganhos, perdas, alocação, etc.\n",
    "    - Quais as melhores métricas de comparação?\n",
    "      1. Retorno (diário/semanal/mensal/anual)\n",
    "      2. Impacto da estratégia sobre volatividade (redução de risco).\n",
    "\n",
    "#\n",
    "7. Publicar informações no streamlit via cloud."
   ]
  }
 ],
 "metadata": {
  "kernelspec": {
   "display_name": "Python 3.9.12 ('competitions')",
   "language": "python",
   "name": "python3"
  },
  "language_info": {
   "codemirror_mode": {
    "name": "ipython",
    "version": 3
   },
   "file_extension": ".py",
   "mimetype": "text/x-python",
   "name": "python",
   "nbconvert_exporter": "python",
   "pygments_lexer": "ipython3",
   "version": "3.9.12"
  },
  "vscode": {
   "interpreter": {
    "hash": "f95b56329b2e9e93cfbf9056eefd279ec503e85fcddf53cc7b252a8f7d57270c"
   }
  }
 },
 "nbformat": 4,
 "nbformat_minor": 5
}

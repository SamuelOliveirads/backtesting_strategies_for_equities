{
 "cells": [
  {
   "cell_type": "markdown",
   "id": "2d71cea6",
   "metadata": {
    "heading_collapsed": true
   },
   "source": [
    "# 0.0 Imports"
   ]
  },
  {
   "cell_type": "code",
   "execution_count": 50,
   "id": "30cd2ec5",
   "metadata": {
    "ExecuteTime": {
     "end_time": "2022-08-07T17:19:52.538335Z",
     "start_time": "2022-08-07T17:19:52.524353Z"
    },
    "hidden": true,
    "scrolled": true
   },
   "outputs": [],
   "source": [
    "import bt\n",
    "import btalib as bta\n",
    "\n",
    "import pickle\n",
    "#import warnings\n",
    "import inflection\n",
    "import numpy as np\n",
    "import pandas as pd\n",
    "import seaborn as sns\n",
    "import pandas_datareader\n",
    "\n",
    "from matplotlib import pyplot as plt\n",
    "from IPython.display import Image\n",
    "from matplotlib.gridspec import GridSpec"
   ]
  },
  {
   "cell_type": "markdown",
   "id": "a2160e14",
   "metadata": {
    "hidden": true
   },
   "source": [
    "## 0.1 Helper Functions"
   ]
  },
  {
   "cell_type": "code",
   "execution_count": 6,
   "id": "0688375c",
   "metadata": {
    "ExecuteTime": {
     "end_time": "2022-08-07T17:19:54.917831Z",
     "start_time": "2022-08-07T17:19:54.907837Z"
    },
    "hidden": true
   },
   "outputs": [],
   "source": [
    "def jupyter_settings():\n",
    "    %matplotlib inline\n",
    "    plt.style.use('bmh')\n",
    "    plt.rcParams['figure.figsize'] = [25,12]\n",
    "    plt.rcParams['font.size'] = 24\n",
    "    plt.rcParams['figure.dpi'] = 100\n",
    "    \n",
    "#    pd.options.display.max_columns = None\n",
    "#   pd.options.display.max_rows = None\n",
    "#    pd.set_option('display.expand_frame_repr', False)\n",
    "    # configura o pandas para quantidade de casas decimeis\n",
    "    pd.set_option('display.float_format', lambda x: '%.2f' % x)\n",
    "    \n",
    "    # ignora future warnings\n",
    "    #warnings.filterwarnings('ignore')\n",
    "    \n",
    "    sns.set()"
   ]
  },
  {
   "cell_type": "code",
   "execution_count": 7,
   "id": "8f7a9082",
   "metadata": {
    "ExecuteTime": {
     "end_time": "2022-08-07T17:19:55.584457Z",
     "start_time": "2022-08-07T17:19:55.571950Z"
    },
    "hidden": true
   },
   "outputs": [],
   "source": [
    "jupyter_settings()"
   ]
  },
  {
   "cell_type": "markdown",
   "id": "80ead6f6",
   "metadata": {
    "hidden": true
   },
   "source": [
    "## 0.2 Load Data"
   ]
  },
  {
   "cell_type": "code",
   "execution_count": 21,
   "id": "1fca5315",
   "metadata": {
    "ExecuteTime": {
     "end_time": "2022-08-07T17:20:05.291290Z",
     "start_time": "2022-08-07T17:20:04.507951Z"
    },
    "hidden": true
   },
   "outputs": [],
   "source": [
    "df_prio = pandas_datareader.data.get_data_yahoo('PRIO3.SA', start='10-01-2021')"
   ]
  },
  {
   "cell_type": "markdown",
   "id": "981d6e99",
   "metadata": {},
   "source": [
    "# 1.0 Descrição dos dados"
   ]
  },
  {
   "cell_type": "code",
   "execution_count": 22,
   "id": "530c2b8e",
   "metadata": {
    "ExecuteTime": {
     "end_time": "2022-08-07T17:20:09.364630Z",
     "start_time": "2022-08-07T17:20:09.300432Z"
    }
   },
   "outputs": [],
   "source": [
    "df1 = df_prio.copy()"
   ]
  },
  {
   "cell_type": "code",
   "execution_count": 23,
   "id": "e3a0194b",
   "metadata": {
    "ExecuteTime": {
     "end_time": "2022-08-07T17:20:17.556097Z",
     "start_time": "2022-08-07T17:20:17.525105Z"
    }
   },
   "outputs": [
    {
     "data": {
      "text/html": [
       "<div>\n",
       "<style scoped>\n",
       "    .dataframe tbody tr th:only-of-type {\n",
       "        vertical-align: middle;\n",
       "    }\n",
       "\n",
       "    .dataframe tbody tr th {\n",
       "        vertical-align: top;\n",
       "    }\n",
       "\n",
       "    .dataframe thead th {\n",
       "        text-align: right;\n",
       "    }\n",
       "</style>\n",
       "<table border=\"1\" class=\"dataframe\">\n",
       "  <thead>\n",
       "    <tr style=\"text-align: right;\">\n",
       "      <th>Date</th>\n",
       "      <th>2021-10-01</th>\n",
       "      <th>2021-10-04</th>\n",
       "      <th>2021-10-05</th>\n",
       "      <th>2021-10-06</th>\n",
       "      <th>2021-10-07</th>\n",
       "    </tr>\n",
       "  </thead>\n",
       "  <tbody>\n",
       "    <tr>\n",
       "      <th>High</th>\n",
       "      <td>26.35</td>\n",
       "      <td>26.98</td>\n",
       "      <td>27.57</td>\n",
       "      <td>26.99</td>\n",
       "      <td>27.67</td>\n",
       "    </tr>\n",
       "    <tr>\n",
       "      <th>Low</th>\n",
       "      <td>25.02</td>\n",
       "      <td>25.91</td>\n",
       "      <td>26.16</td>\n",
       "      <td>25.13</td>\n",
       "      <td>26.27</td>\n",
       "    </tr>\n",
       "    <tr>\n",
       "      <th>Open</th>\n",
       "      <td>25.02</td>\n",
       "      <td>26.58</td>\n",
       "      <td>26.79</td>\n",
       "      <td>25.48</td>\n",
       "      <td>27.30</td>\n",
       "    </tr>\n",
       "    <tr>\n",
       "      <th>Close</th>\n",
       "      <td>26.35</td>\n",
       "      <td>26.06</td>\n",
       "      <td>26.20</td>\n",
       "      <td>26.25</td>\n",
       "      <td>26.70</td>\n",
       "    </tr>\n",
       "    <tr>\n",
       "      <th>Volume</th>\n",
       "      <td>37511200.00</td>\n",
       "      <td>24216600.00</td>\n",
       "      <td>30201900.00</td>\n",
       "      <td>34950300.00</td>\n",
       "      <td>31664700.00</td>\n",
       "    </tr>\n",
       "    <tr>\n",
       "      <th>Adj Close</th>\n",
       "      <td>26.35</td>\n",
       "      <td>26.06</td>\n",
       "      <td>26.20</td>\n",
       "      <td>26.25</td>\n",
       "      <td>26.70</td>\n",
       "    </tr>\n",
       "  </tbody>\n",
       "</table>\n",
       "</div>"
      ],
      "text/plain": [
       "Date       2021-10-01  2021-10-04  2021-10-05  2021-10-06  2021-10-07\n",
       "High            26.35       26.98       27.57       26.99       27.67\n",
       "Low             25.02       25.91       26.16       25.13       26.27\n",
       "Open            25.02       26.58       26.79       25.48       27.30\n",
       "Close           26.35       26.06       26.20       26.25       26.70\n",
       "Volume    37511200.00 24216600.00 30201900.00 34950300.00 31664700.00\n",
       "Adj Close       26.35       26.06       26.20       26.25       26.70"
      ]
     },
     "execution_count": 23,
     "metadata": {},
     "output_type": "execute_result"
    }
   ],
   "source": [
    "df1.head().T"
   ]
  },
  {
   "cell_type": "markdown",
   "id": "7adb4e36",
   "metadata": {},
   "source": [
    "## 1.1 Rename Columns"
   ]
  },
  {
   "cell_type": "code",
   "execution_count": 44,
   "id": "4219d824",
   "metadata": {},
   "outputs": [],
   "source": [
    "old_cols = ['High', 'Low', 'Open', 'Close', 'Volume', 'Adj Close']\n",
    "\n",
    "snakecase = lambda x : inflection.underscore(x)\n",
    "\n",
    "new_cols = list(map(snakecase, old_cols))\n",
    "\n",
    "# rename\n",
    "df1.columns = new_cols"
   ]
  },
  {
   "cell_type": "markdown",
   "id": "e41af19b",
   "metadata": {},
   "source": [
    "## 1.2 Data Dimension"
   ]
  },
  {
   "cell_type": "code",
   "execution_count": 24,
   "id": "9f0c745f",
   "metadata": {},
   "outputs": [
    {
     "name": "stdout",
     "output_type": "stream",
     "text": [
      "Number of rows: 257\n",
      "Number of columns: 6\n"
     ]
    }
   ],
   "source": [
    "print(f'Number of rows: {df1.shape[0]}')\n",
    "print(f'Number of columns: {df1.shape[1]}')"
   ]
  },
  {
   "cell_type": "markdown",
   "id": "dcf4658f",
   "metadata": {},
   "source": [
    "## 1.3 Data Types"
   ]
  },
  {
   "cell_type": "code",
   "execution_count": 45,
   "id": "bac06387",
   "metadata": {},
   "outputs": [
    {
     "data": {
      "text/plain": [
       "high         float64\n",
       "low          float64\n",
       "open         float64\n",
       "close        float64\n",
       "volume         int64\n",
       "adj close    float64\n",
       "dtype: object"
      ]
     },
     "execution_count": 45,
     "metadata": {},
     "output_type": "execute_result"
    }
   ],
   "source": [
    "df1.dtypes"
   ]
  },
  {
   "cell_type": "markdown",
   "id": "ade944bf",
   "metadata": {},
   "source": [
    "## 1.4 Check NA"
   ]
  },
  {
   "cell_type": "code",
   "execution_count": 26,
   "id": "19b10ef6",
   "metadata": {},
   "outputs": [
    {
     "data": {
      "text/plain": [
       "High         0\n",
       "Low          0\n",
       "Open         0\n",
       "Close        0\n",
       "Volume       0\n",
       "Adj Close    0\n",
       "dtype: int64"
      ]
     },
     "execution_count": 26,
     "metadata": {},
     "output_type": "execute_result"
    }
   ],
   "source": [
    "df1.isna().sum()"
   ]
  },
  {
   "cell_type": "markdown",
   "id": "3e16a2f1",
   "metadata": {},
   "source": [
    "## 1.7 Descriptive Statistical"
   ]
  },
  {
   "cell_type": "markdown",
   "id": "b10f4885",
   "metadata": {},
   "source": [
    "### 1.7.1 Numerical Attributes"
   ]
  },
  {
   "cell_type": "code",
   "execution_count": 27,
   "id": "68b2f063",
   "metadata": {},
   "outputs": [
    {
     "data": {
      "text/html": [
       "<div>\n",
       "<style scoped>\n",
       "    .dataframe tbody tr th:only-of-type {\n",
       "        vertical-align: middle;\n",
       "    }\n",
       "\n",
       "    .dataframe tbody tr th {\n",
       "        vertical-align: top;\n",
       "    }\n",
       "\n",
       "    .dataframe thead th {\n",
       "        text-align: right;\n",
       "    }\n",
       "</style>\n",
       "<table border=\"1\" class=\"dataframe\">\n",
       "  <thead>\n",
       "    <tr style=\"text-align: right;\">\n",
       "      <th></th>\n",
       "      <th>attibutes</th>\n",
       "      <th>min</th>\n",
       "      <th>max</th>\n",
       "      <th>range</th>\n",
       "      <th>mean</th>\n",
       "      <th>median</th>\n",
       "      <th>std</th>\n",
       "      <th>skew</th>\n",
       "      <th>kurtosis</th>\n",
       "    </tr>\n",
       "  </thead>\n",
       "  <tbody>\n",
       "    <tr>\n",
       "      <th>0</th>\n",
       "      <td>High</td>\n",
       "      <td>19.44</td>\n",
       "      <td>32.55</td>\n",
       "      <td>13.11</td>\n",
       "      <td>25.31</td>\n",
       "      <td>25.29</td>\n",
       "      <td>2.74</td>\n",
       "      <td>0.00</td>\n",
       "      <td>-0.51</td>\n",
       "    </tr>\n",
       "    <tr>\n",
       "      <th>1</th>\n",
       "      <td>Low</td>\n",
       "      <td>18.49</td>\n",
       "      <td>31.40</td>\n",
       "      <td>12.91</td>\n",
       "      <td>24.14</td>\n",
       "      <td>24.16</td>\n",
       "      <td>2.68</td>\n",
       "      <td>0.03</td>\n",
       "      <td>-0.38</td>\n",
       "    </tr>\n",
       "    <tr>\n",
       "      <th>2</th>\n",
       "      <td>Open</td>\n",
       "      <td>19.01</td>\n",
       "      <td>32.36</td>\n",
       "      <td>13.35</td>\n",
       "      <td>24.73</td>\n",
       "      <td>24.69</td>\n",
       "      <td>2.70</td>\n",
       "      <td>-0.00</td>\n",
       "      <td>-0.47</td>\n",
       "    </tr>\n",
       "    <tr>\n",
       "      <th>3</th>\n",
       "      <td>Close</td>\n",
       "      <td>18.49</td>\n",
       "      <td>32.01</td>\n",
       "      <td>13.52</td>\n",
       "      <td>24.70</td>\n",
       "      <td>24.75</td>\n",
       "      <td>2.71</td>\n",
       "      <td>0.01</td>\n",
       "      <td>-0.42</td>\n",
       "    </tr>\n",
       "    <tr>\n",
       "      <th>4</th>\n",
       "      <td>Volume</td>\n",
       "      <td>0.00</td>\n",
       "      <td>102389800.00</td>\n",
       "      <td>102389800.00</td>\n",
       "      <td>19761347.47</td>\n",
       "      <td>17840600.00</td>\n",
       "      <td>9288736.05</td>\n",
       "      <td>3.42</td>\n",
       "      <td>24.51</td>\n",
       "    </tr>\n",
       "    <tr>\n",
       "      <th>5</th>\n",
       "      <td>Adj Close</td>\n",
       "      <td>18.49</td>\n",
       "      <td>32.01</td>\n",
       "      <td>13.52</td>\n",
       "      <td>24.70</td>\n",
       "      <td>24.75</td>\n",
       "      <td>2.71</td>\n",
       "      <td>0.01</td>\n",
       "      <td>-0.42</td>\n",
       "    </tr>\n",
       "  </tbody>\n",
       "</table>\n",
       "</div>"
      ],
      "text/plain": [
       "   attibutes   min          max        range        mean      median  \\\n",
       "0       High 19.44        32.55        13.11       25.31       25.29   \n",
       "1        Low 18.49        31.40        12.91       24.14       24.16   \n",
       "2       Open 19.01        32.36        13.35       24.73       24.69   \n",
       "3      Close 18.49        32.01        13.52       24.70       24.75   \n",
       "4     Volume  0.00 102389800.00 102389800.00 19761347.47 17840600.00   \n",
       "5  Adj Close 18.49        32.01        13.52       24.70       24.75   \n",
       "\n",
       "         std  skew  kurtosis  \n",
       "0       2.74  0.00     -0.51  \n",
       "1       2.68  0.03     -0.38  \n",
       "2       2.70 -0.00     -0.47  \n",
       "3       2.71  0.01     -0.42  \n",
       "4 9288736.05  3.42     24.51  \n",
       "5       2.71  0.01     -0.42  "
      ]
     },
     "execution_count": 27,
     "metadata": {},
     "output_type": "execute_result"
    }
   ],
   "source": [
    "# Central tendency and Dispersion\n",
    "d1 = pd.DataFrame (df1.apply( lambda x: x.max() - x.min() )).T\n",
    "d2 = df1.agg(['min', 'max', 'mean', 'median', 'std', 'skew', 'kurtosis'])\n",
    "\n",
    "# concatenate\n",
    "m2 = pd.concat([d1, d2]).T.reset_index()\n",
    "m2.columns = ['attibutes', 'range', 'min', 'max', 'mean', 'median', 'std', 'skew', 'kurtosis']\n",
    "m2 = m2[['attibutes', 'min', 'max', 'range', 'mean', 'median', 'std', 'skew', 'kurtosis']]\n",
    "\n",
    "m2"
   ]
  },
  {
   "cell_type": "code",
   "execution_count": 38,
   "id": "e2da4376",
   "metadata": {},
   "outputs": [
    {
     "data": {
      "text/plain": [
       "375"
      ]
     },
     "execution_count": 38,
     "metadata": {},
     "output_type": "execute_result"
    }
   ],
   "source": [
    "# Check range of days\n",
    "df_aux = df1.reset_index()\n",
    "\n",
    "(df_aux['Date'].max() - df_aux['Date'].min()).days"
   ]
  },
  {
   "cell_type": "markdown",
   "id": "055dd8b4",
   "metadata": {
    "heading_collapsed": true
   },
   "source": [
    "# 2.0 Feature Engineering"
   ]
  },
  {
   "cell_type": "markdown",
   "id": "9633ceab",
   "metadata": {
    "hidden": true
   },
   "source": [
    "## 2.1 MindMap Hypothesis"
   ]
  },
  {
   "cell_type": "markdown",
   "id": "85cd3a1e",
   "metadata": {
    "hidden": true
   },
   "source": [
    "## 2.2 Lista final de hipóteses"
   ]
  },
  {
   "cell_type": "markdown",
   "id": "cb69af25",
   "metadata": {
    "ExecuteTime": {
     "end_time": "2022-06-28T22:48:30.723509Z",
     "start_time": "2022-06-28T22:48:30.719497Z"
    },
    "hidden": true
   },
   "source": [
    "## 2.3 Feature Engineering"
   ]
  },
  {
   "cell_type": "markdown",
   "id": "ec78c4ac",
   "metadata": {
    "heading_collapsed": true
   },
   "source": [
    "# 3.0 Filtragem de variáveis"
   ]
  },
  {
   "cell_type": "markdown",
   "id": "0b53506a",
   "metadata": {
    "hidden": true
   },
   "source": [
    "## 3.1 Filtragem das linhas"
   ]
  },
  {
   "cell_type": "markdown",
   "id": "f9a11fe4",
   "metadata": {
    "hidden": true
   },
   "source": [
    "## 3.2 Seleção das colunas"
   ]
  },
  {
   "cell_type": "markdown",
   "id": "ddd21c9a",
   "metadata": {},
   "source": [
    "# 4.0 Backtesting"
   ]
  },
  {
   "cell_type": "markdown",
   "id": "ccd97936",
   "metadata": {},
   "source": [
    "# 4.1 Create Strategy"
   ]
  },
  {
   "cell_type": "code",
   "execution_count": 69,
   "id": "7c1041a1",
   "metadata": {},
   "outputs": [],
   "source": [
    "df4 = df1.copy()"
   ]
  },
  {
   "cell_type": "code",
   "execution_count": 70,
   "id": "69477e65",
   "metadata": {},
   "outputs": [],
   "source": [
    "df4['signal'] = df4['close']"
   ]
  },
  {
   "cell_type": "code",
   "execution_count": 71,
   "id": "b4bc56a4",
   "metadata": {},
   "outputs": [],
   "source": [
    "aux = pd.DataFrame()\n",
    "aux = bta.bbands(df4.signal, period=20, devs=2.0).df"
   ]
  },
  {
   "cell_type": "code",
   "execution_count": 72,
   "id": "b4a78789",
   "metadata": {},
   "outputs": [],
   "source": [
    "df4 = pd.concat([df4, aux], axis=1)"
   ]
  },
  {
   "cell_type": "code",
   "execution_count": 73,
   "id": "198de78c",
   "metadata": {},
   "outputs": [],
   "source": [
    "df4 = df4.fillna(0)"
   ]
  },
  {
   "cell_type": "code",
   "execution_count": 81,
   "id": "c2d0aab4",
   "metadata": {},
   "outputs": [],
   "source": [
    "df4['signal'] = df4.apply(lambda x: -1.0 if x['close'] > x['top'] else 1.0 if x['close'] <= x['bot'] else 0.0, axis=1)"
   ]
  },
  {
   "cell_type": "code",
   "execution_count": 83,
   "id": "5447234d",
   "metadata": {},
   "outputs": [
    {
     "data": {
      "text/html": [
       "<div>\n",
       "<style scoped>\n",
       "    .dataframe tbody tr th:only-of-type {\n",
       "        vertical-align: middle;\n",
       "    }\n",
       "\n",
       "    .dataframe tbody tr th {\n",
       "        vertical-align: top;\n",
       "    }\n",
       "\n",
       "    .dataframe thead th {\n",
       "        text-align: right;\n",
       "    }\n",
       "</style>\n",
       "<table border=\"1\" class=\"dataframe\">\n",
       "  <thead>\n",
       "    <tr style=\"text-align: right;\">\n",
       "      <th></th>\n",
       "      <th>high</th>\n",
       "      <th>low</th>\n",
       "      <th>open</th>\n",
       "      <th>close</th>\n",
       "      <th>volume</th>\n",
       "      <th>adj close</th>\n",
       "      <th>signal</th>\n",
       "      <th>mid</th>\n",
       "      <th>top</th>\n",
       "      <th>bot</th>\n",
       "    </tr>\n",
       "    <tr>\n",
       "      <th>Date</th>\n",
       "      <th></th>\n",
       "      <th></th>\n",
       "      <th></th>\n",
       "      <th></th>\n",
       "      <th></th>\n",
       "      <th></th>\n",
       "      <th></th>\n",
       "      <th></th>\n",
       "      <th></th>\n",
       "      <th></th>\n",
       "    </tr>\n",
       "  </thead>\n",
       "  <tbody>\n",
       "    <tr>\n",
       "      <th>2022-09-28</th>\n",
       "      <td>28.33</td>\n",
       "      <td>27.07</td>\n",
       "      <td>27.25</td>\n",
       "      <td>27.91</td>\n",
       "      <td>19373100</td>\n",
       "      <td>27.91</td>\n",
       "      <td>0.00</td>\n",
       "      <td>28.04</td>\n",
       "      <td>29.39</td>\n",
       "      <td>26.68</td>\n",
       "    </tr>\n",
       "    <tr>\n",
       "      <th>2022-09-29</th>\n",
       "      <td>27.83</td>\n",
       "      <td>26.83</td>\n",
       "      <td>27.72</td>\n",
       "      <td>27.23</td>\n",
       "      <td>11230300</td>\n",
       "      <td>27.23</td>\n",
       "      <td>0.00</td>\n",
       "      <td>28.03</td>\n",
       "      <td>29.39</td>\n",
       "      <td>26.67</td>\n",
       "    </tr>\n",
       "    <tr>\n",
       "      <th>2022-09-30</th>\n",
       "      <td>27.81</td>\n",
       "      <td>26.81</td>\n",
       "      <td>27.01</td>\n",
       "      <td>27.53</td>\n",
       "      <td>8803300</td>\n",
       "      <td>27.53</td>\n",
       "      <td>0.00</td>\n",
       "      <td>28.05</td>\n",
       "      <td>29.37</td>\n",
       "      <td>26.72</td>\n",
       "    </tr>\n",
       "    <tr>\n",
       "      <th>2022-10-03</th>\n",
       "      <td>29.43</td>\n",
       "      <td>28.50</td>\n",
       "      <td>28.58</td>\n",
       "      <td>28.94</td>\n",
       "      <td>12394100</td>\n",
       "      <td>28.94</td>\n",
       "      <td>0.00</td>\n",
       "      <td>28.11</td>\n",
       "      <td>29.48</td>\n",
       "      <td>26.73</td>\n",
       "    </tr>\n",
       "    <tr>\n",
       "      <th>2022-10-04</th>\n",
       "      <td>30.97</td>\n",
       "      <td>29.44</td>\n",
       "      <td>29.49</td>\n",
       "      <td>30.33</td>\n",
       "      <td>28091600</td>\n",
       "      <td>30.33</td>\n",
       "      <td>-1.00</td>\n",
       "      <td>28.15</td>\n",
       "      <td>29.71</td>\n",
       "      <td>26.58</td>\n",
       "    </tr>\n",
       "    <tr>\n",
       "      <th>2022-10-05</th>\n",
       "      <td>31.85</td>\n",
       "      <td>30.09</td>\n",
       "      <td>30.29</td>\n",
       "      <td>31.30</td>\n",
       "      <td>17696000</td>\n",
       "      <td>31.30</td>\n",
       "      <td>-1.00</td>\n",
       "      <td>28.28</td>\n",
       "      <td>30.35</td>\n",
       "      <td>26.20</td>\n",
       "    </tr>\n",
       "    <tr>\n",
       "      <th>2022-10-06</th>\n",
       "      <td>31.85</td>\n",
       "      <td>31.17</td>\n",
       "      <td>31.72</td>\n",
       "      <td>31.61</td>\n",
       "      <td>9359500</td>\n",
       "      <td>31.61</td>\n",
       "      <td>-1.00</td>\n",
       "      <td>28.48</td>\n",
       "      <td>30.98</td>\n",
       "      <td>25.97</td>\n",
       "    </tr>\n",
       "    <tr>\n",
       "      <th>2022-10-07</th>\n",
       "      <td>32.55</td>\n",
       "      <td>31.40</td>\n",
       "      <td>31.51</td>\n",
       "      <td>32.01</td>\n",
       "      <td>10854100</td>\n",
       "      <td>32.01</td>\n",
       "      <td>-1.00</td>\n",
       "      <td>28.68</td>\n",
       "      <td>31.60</td>\n",
       "      <td>25.75</td>\n",
       "    </tr>\n",
       "    <tr>\n",
       "      <th>2022-10-10</th>\n",
       "      <td>32.40</td>\n",
       "      <td>31.23</td>\n",
       "      <td>32.36</td>\n",
       "      <td>31.46</td>\n",
       "      <td>11087800</td>\n",
       "      <td>31.46</td>\n",
       "      <td>0.00</td>\n",
       "      <td>28.87</td>\n",
       "      <td>31.99</td>\n",
       "      <td>25.75</td>\n",
       "    </tr>\n",
       "    <tr>\n",
       "      <th>2022-10-11</th>\n",
       "      <td>31.87</td>\n",
       "      <td>30.93</td>\n",
       "      <td>31.17</td>\n",
       "      <td>31.40</td>\n",
       "      <td>9524000</td>\n",
       "      <td>31.40</td>\n",
       "      <td>0.00</td>\n",
       "      <td>29.09</td>\n",
       "      <td>32.27</td>\n",
       "      <td>25.90</td>\n",
       "    </tr>\n",
       "  </tbody>\n",
       "</table>\n",
       "</div>"
      ],
      "text/plain": [
       "            high   low  open  close    volume  adj close  signal   mid   top  \\\n",
       "Date                                                                           \n",
       "2022-09-28 28.33 27.07 27.25  27.91  19373100      27.91    0.00 28.04 29.39   \n",
       "2022-09-29 27.83 26.83 27.72  27.23  11230300      27.23    0.00 28.03 29.39   \n",
       "2022-09-30 27.81 26.81 27.01  27.53   8803300      27.53    0.00 28.05 29.37   \n",
       "2022-10-03 29.43 28.50 28.58  28.94  12394100      28.94    0.00 28.11 29.48   \n",
       "2022-10-04 30.97 29.44 29.49  30.33  28091600      30.33   -1.00 28.15 29.71   \n",
       "2022-10-05 31.85 30.09 30.29  31.30  17696000      31.30   -1.00 28.28 30.35   \n",
       "2022-10-06 31.85 31.17 31.72  31.61   9359500      31.61   -1.00 28.48 30.98   \n",
       "2022-10-07 32.55 31.40 31.51  32.01  10854100      32.01   -1.00 28.68 31.60   \n",
       "2022-10-10 32.40 31.23 32.36  31.46  11087800      31.46    0.00 28.87 31.99   \n",
       "2022-10-11 31.87 30.93 31.17  31.40   9524000      31.40    0.00 29.09 32.27   \n",
       "\n",
       "             bot  \n",
       "Date              \n",
       "2022-09-28 26.68  \n",
       "2022-09-29 26.67  \n",
       "2022-09-30 26.72  \n",
       "2022-10-03 26.73  \n",
       "2022-10-04 26.58  \n",
       "2022-10-05 26.20  \n",
       "2022-10-06 25.97  \n",
       "2022-10-07 25.75  \n",
       "2022-10-10 25.75  \n",
       "2022-10-11 25.90  "
      ]
     },
     "execution_count": 83,
     "metadata": {},
     "output_type": "execute_result"
    }
   ],
   "source": [
    "df4.tail(10)"
   ]
  },
  {
   "cell_type": "markdown",
   "id": "58caf6b4",
   "metadata": {},
   "source": [
    "## 4.2 Backtesting"
   ]
  },
  {
   "cell_type": "code",
   "execution_count": 116,
   "id": "75fda440",
   "metadata": {},
   "outputs": [],
   "source": [
    "df4_aux = pd.DataFrame()\n",
    "df4_aux['signal'] = df4[['close']].copy()"
   ]
  },
  {
   "cell_type": "code",
   "execution_count": 119,
   "id": "5c564594",
   "metadata": {},
   "outputs": [
    {
     "name": "stdout",
     "output_type": "stream",
     "text": [
      "Stat                 bbands\n",
      "-------------------  ----------\n",
      "Start                2021-09-30\n",
      "End                  2022-10-11\n",
      "Risk-free rate       0.00%\n",
      "\n",
      "Total Return         12.19%\n",
      "Daily Sharpe         0.66\n",
      "Daily Sortino        1.07\n",
      "CAGR                 11.82%\n",
      "Max Drawdown         -12.53%\n",
      "Calmar Ratio         0.94\n",
      "\n",
      "MTD                  -3.74%\n",
      "3m                   6.23%\n",
      "6m                   8.00%\n",
      "YTD                  0.21%\n",
      "1Y                   18.49%\n",
      "3Y (ann.)            -\n",
      "5Y (ann.)            -\n",
      "10Y (ann.)           -\n",
      "Since Incep. (ann.)  11.82%\n",
      "\n",
      "Daily Sharpe         0.66\n",
      "Daily Sortino        1.07\n",
      "Daily Mean (ann.)    13.31%\n",
      "Daily Vol (ann.)     20.27%\n",
      "Daily Skew           0.95\n",
      "Daily Kurt           13.39\n",
      "Best Day             7.26%\n",
      "Worst Day            -6.42%\n",
      "\n",
      "Monthly Sharpe       0.63\n",
      "Monthly Sortino      1.38\n",
      "Monthly Mean (ann.)  12.41%\n",
      "Monthly Vol (ann.)   19.63%\n",
      "Monthly Skew         0.48\n",
      "Monthly Kurt         -0.42\n",
      "Best Month           10.57%\n",
      "Worst Month          -7.07%\n",
      "\n",
      "Yearly Sharpe        -\n",
      "Yearly Sortino       -\n",
      "Yearly Mean          0.21%\n",
      "Yearly Vol           -\n",
      "Yearly Skew          -\n",
      "Yearly Kurt          -\n",
      "Best Year            0.21%\n",
      "Worst Year           0.21%\n",
      "\n",
      "Avg. Drawdown        -6.50%\n",
      "Avg. Drawdown Days   70.50\n",
      "Avg. Up Month        5.49%\n",
      "Avg. Down Month      -2.79%\n",
      "Win Year %           100.00%\n",
      "Win 12m %            100.00%\n"
     ]
    }
   ],
   "source": [
    "bbands = bt.Strategy('bbands', [bt.algos.WeighTarget(df4[['signal']]), bt.algos.Rebalance()])\n",
    "\n",
    "btest = bt.Backtest(bbands, df4_aux)\n",
    "\n",
    "results = bt.run(btest)\n",
    "\n",
    "results.display()"
   ]
  },
  {
   "cell_type": "code",
   "execution_count": 126,
   "id": "a9be3d66",
   "metadata": {},
   "outputs": [
    {
     "data": {
      "text/plain": [
       "<AxesSubplot:title={'center':'Equity Progression'}>"
      ]
     },
     "execution_count": 126,
     "metadata": {},
     "output_type": "execute_result"
    },
    {
     "data": {
      "image/png": "[encoded data removed]",
      "text/plain": [
       "<Figure size 1500x500 with 1 Axes>"
      ]
     },
     "metadata": {},
     "output_type": "display_data"
    }
   ],
   "source": [
    "%matplotlib inline\n",
    "results.plot();"
   ]
  },
  {
   "cell_type": "code",
   "execution_count": 127,
   "id": "d260cdd7",
   "metadata": {},
   "outputs": [
    {
     "name": "stdout",
     "output_type": "stream",
     "text": [
      "  Year    Jan    Feb    Mar    Apr    May    Jun    Jul    Aug    Sep    Oct    Nov    Dec    YTD\n",
      "------  -----  -----  -----  -----  -----  -----  -----  -----  -----  -----  -----  -----  -----\n",
      "  2021   0      0       0      0     0      0      0      0      0     10.41   1.41      0  11.96\n",
      "  2022  -7.07   0.04   -0.2   -1.6  10.57  -6.55  -0.34   2.77   7.75  -3.74   0         0   0.21\n"
     ]
    }
   ],
   "source": [
    "results.display_monthly_returns()"
   ]
  }
 ],
 "metadata": {
  "kernelspec": {
   "display_name": "Python 3.8.13 ('backtesting_strategies')",
   "language": "python",
   "name": "python3"
  },
  "language_info": {
   "codemirror_mode": {
    "name": "ipython",
    "version": 3
   },
   "file_extension": ".py",
   "mimetype": "text/x-python",
   "name": "python",
   "nbconvert_exporter": "python",
   "pygments_lexer": "ipython3",
   "version": "3.8.13"
  },
  "vscode": {
   "interpreter": {
    "hash": "2b2cca45907caa8c1970c429ca05958dc5373859ea019856826ebe62470ec173"
   }
  }
 },
 "nbformat": 4,
 "nbformat_minor": 5
}
